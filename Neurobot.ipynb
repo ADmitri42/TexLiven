{
 "cells": [
  {
   "cell_type": "markdown",
   "metadata": {},
   "source": [
    "# Давайте создадим AI чат бота..."
   ]
  },
  {
   "cell_type": "markdown",
   "metadata": {},
   "source": [
    "## Идея"
   ]
  },
  {
   "cell_type": "markdown",
   "metadata": {},
   "source": [
    "#### Давайте обсудим, для чего это нужно"
   ]
  },
  {
   "cell_type": "markdown",
   "metadata": {},
   "source": [
    "1. Сильный AI может стать бесполезным, если не сможет общаться с людьми\n",
    "2. Даже если не мечтать про сильный AI, умение \"понимать\" и осмысленно отвечать на человеческом языке может сильно помочь в автоматизации службы поддержки компании и др.\n",
    "3. Изучение новой технологии"
   ]
  },
  {
   "cell_type": "markdown",
   "metadata": {
    "collapsed": true
   },
   "source": [
    "#### Цель"
   ]
  },
  {
   "cell_type": "markdown",
   "metadata": {
    "collapsed": true
   },
   "source": [
    "* Создание чат бота, поддерживающего беседу\n",
    "* Изучение технологий, необходимых для этого"
   ]
  },
  {
   "cell_type": "markdown",
   "metadata": {
    "collapsed": true
   },
   "source": [
    "## Let's do this"
   ]
  },
  {
   "cell_type": "markdown",
   "metadata": {
    "collapsed": true
   },
   "source": [
    "#### Загрузим и подготовим данные"
   ]
  },
  {
   "cell_type": "code",
   "execution_count": null,
   "metadata": {
    "collapsed": false
   },
   "outputs": [],
   "source": [
    "!wget https://www.dropbox.com/s/fekjo46q4pyfugw/movie_lines.txt"
   ]
  },
  {
   "cell_type": "code",
   "execution_count": null,
   "metadata": {
    "collapsed": true
   },
   "outputs": [],
   "source": [
    "!wget https://www.dropbox.com/s/qqaxtaomp7ydqhg/Networks_weights.npz"
   ]
  },
  {
   "cell_type": "code",
   "execution_count": null,
   "metadata": {
    "collapsed": true
   },
   "outputs": [],
   "source": [
    "!wget https://www.dropbox.com/s/74jfh7w1itzcqkz/tokens_id.json"
   ]
  },
  {
   "cell_type": "code",
   "execution_count": 1,
   "metadata": {
    "collapsed": true
   },
   "outputs": [],
   "source": [
    "import re\n",
    "import numpy as np\n",
    "\n",
    "PAD_ix = -1"
   ]
  },
  {
   "cell_type": "code",
   "execution_count": 2,
   "metadata": {
    "collapsed": false
   },
   "outputs": [],
   "source": [
    "with open(\"movie_lines.txt\", 'r') as f:\n",
    "    text = f.read().decode(\"windows-1251\")\n",
    "    text = re.sub(\"\\w+ \\+\\+\\+\\$\\+\\+\\+ \", \"\", text)\n",
    "    phrase_list = text.split(\"\\n\")\n",
    "    clear_text = \" \".join(phrase_list)\n",
    "    del text"
   ]
  },
  {
   "cell_type": "code",
   "execution_count": 3,
   "metadata": {
    "collapsed": false
   },
   "outputs": [
    {
     "data": {
      "text/plain": [
       "u\"They do not! They do to! I hope so. She okay? Let's go. Wow Okay -- you're gonna need to learn how t\""
      ]
     },
     "execution_count": 3,
     "metadata": {},
     "output_type": "execute_result"
    }
   ],
   "source": [
    "clear_text[:100]"
   ]
  },
  {
   "cell_type": "markdown",
   "metadata": {},
   "source": [
    "Так как мы генирируем ответы посимвольно, определимся, какие символы у нас встречаются "
   ]
  },
  {
   "cell_type": "code",
   "execution_count": 4,
   "metadata": {
    "collapsed": false
   },
   "outputs": [],
   "source": [
    "tokens = set(clear_text)\n",
    "\n",
    "tokens = list(tokens)\n",
    "\n",
    "del clear_text"
   ]
  },
  {
   "cell_type": "markdown",
   "metadata": {},
   "source": [
    "Для обозначения начала и конца будем использовать START и END. Превратим каждое наше предложение в список символовб которые оно содержит, добавим обозначение начала и конца"
   ]
  },
  {
   "cell_type": "code",
   "execution_count": 5,
   "metadata": {
    "collapsed": false
   },
   "outputs": [],
   "source": [
    "tokens = [\"START\"] + tokens + [\"END\"]"
   ]
  },
  {
   "cell_type": "code",
   "execution_count": 6,
   "metadata": {
    "collapsed": false
   },
   "outputs": [
    {
     "data": {
      "text/plain": [
       "141"
      ]
     },
     "execution_count": 6,
     "metadata": {},
     "output_type": "execute_result"
    }
   ],
   "source": [
    "len(tokens)"
   ]
  },
  {
   "cell_type": "code",
   "execution_count": 7,
   "metadata": {
    "collapsed": false
   },
   "outputs": [],
   "source": [
    "phrase_list = list(map(lambda x: [\"START\"] + list(x) + [\"END\"], phrase_list))"
   ]
  },
  {
   "cell_type": "markdown",
   "metadata": {},
   "source": [
    "Создадим словарь token - id"
   ]
  },
  {
   "cell_type": "code",
   "execution_count": 8,
   "metadata": {
    "collapsed": false
   },
   "outputs": [],
   "source": [
    "token_to_id = {tok: i for i, tok in enumerate(tokens)}\n",
    "\n",
    "id_to_token = {token_to_id[tok]: tok for tok in token_to_id.keys()}"
   ]
  },
  {
   "cell_type": "markdown",
   "metadata": {
    "collapsed": false
   },
   "source": [
    "Будем превращать все наши предложения в матрицу, имеющую форму (кол-во предложений, мак-ое кол-во символов в предложении), если остаются пустые ячейки заполним их -1"
   ]
  },
  {
   "cell_type": "code",
   "execution_count": 9,
   "metadata": {
    "collapsed": true
   },
   "outputs": [],
   "source": [
    "def as_matrix(sequences,token_to_i, max_len=None,PAX_ix=PAD_ix):\n",
    "    max_len = max_len or max(map(len,sequences))\n",
    "    \n",
    "    matrix = np.zeros((len(sequences),max_len),dtype='int16') -1\n",
    "    for i,seq in enumerate(sequences):\n",
    "        row_ix = map(token_to_i.get,seq)[:max_len]\n",
    "        matrix[i,:len(row_ix)] = row_ix\n",
    "    \n",
    "    return matrix"
   ]
  },
  {
   "cell_type": "markdown",
   "metadata": {},
   "source": [
    "Преобразуем в токены"
   ]
  },
  {
   "cell_type": "code",
   "execution_count": 10,
   "metadata": {
    "collapsed": false
   },
   "outputs": [
    {
     "name": "stdout",
     "output_type": "stream",
     "text": [
      "[[  0  25  30 132 138  11  29  68  11  98  68  33 110 140]\n",
      " [  0  25  30 132 138  11  29  68  11  33  68 110 140  -1]\n",
      " [  0 122  11  30  68  32 132  11  69  68  80 140  -1  -1]\n",
      " [  0  58  30 132  11  68  66 131 138  52 140  -1  -1  -1]\n",
      " [  0  23 132  33  44  69  11  65  68  80 140  -1  -1  -1]]\n"
     ]
    }
   ],
   "source": [
    "print as_matrix(phrase_list[:5], token_to_id)"
   ]
  },
  {
   "cell_type": "markdown",
   "metadata": {},
   "source": [
    "Сохраним"
   ]
  },
  {
   "cell_type": "code",
   "execution_count": 11,
   "metadata": {
    "collapsed": true
   },
   "outputs": [],
   "source": [
    "import json"
   ]
  },
  {
   "cell_type": "code",
   "execution_count": null,
   "metadata": {
    "collapsed": true
   },
   "outputs": [],
   "source": [
    "with open(\"tokens_id.json\", \"w\") as fp:\n",
    "    json.dump({\"token_to_id\":token_to_id, \"id_to_token\": id_to_token, \"tokens\": tokens}, fp)"
   ]
  },
  {
   "cell_type": "code",
   "execution_count": 12,
   "metadata": {
    "collapsed": false
   },
   "outputs": [],
   "source": [
    "with open(\"tokens_id.json\") as f:\n",
    "    tokens_id = json.load(f)\n",
    "token_to_id = tokens_id[u'token_to_id']\n",
    "id_to_token = tokens_id[\"id_to_token\"]\n",
    "tokens = tokens_id[\"tokens\"]\n",
    "tokens = tokens"
   ]
  },
  {
   "cell_type": "markdown",
   "metadata": {},
   "source": [
    "# Deep learning"
   ]
  },
  {
   "cell_type": "markdown",
   "metadata": {},
   "source": [
    "Создадим сеть, которая будет получать на вход вопрос и генерировать посимвольно ответ на него"
   ]
  },
  {
   "cell_type": "code",
   "execution_count": 14,
   "metadata": {
    "collapsed": true
   },
   "outputs": [],
   "source": [
    "import theano\n",
    "import theano.tensor as T\n",
    "import lasagne\n",
    "from lasagne import layers\n",
    "from lasagne.objectives import categorical_crossentropy\n",
    "from lasagne.updates import adam"
   ]
  },
  {
   "cell_type": "code",
   "execution_count": 15,
   "metadata": {
    "collapsed": false
   },
   "outputs": [],
   "source": [
    "input_sequence = T.matrix('token sequence','int32')\n",
    "target_phonemes = T.matrix('target phonemes','int32')"
   ]
  },
  {
   "cell_type": "code",
   "execution_count": 16,
   "metadata": {
    "collapsed": true
   },
   "outputs": [],
   "source": [
    "\n",
    "##ENCODER\n",
    "l_in = lasagne.layers.InputLayer(shape=(None, None),input_var=input_sequence)\n",
    "l_mask = lasagne.layers.InputLayer(shape=(None, None),input_var=T.neq(input_sequence,-1))\n",
    "l_emb = lasagne.layers.EmbeddingLayer(l_in, len(tokens), 40)\n",
    "l_rnn = lasagne.layers.LSTMLayer(l_emb,256,only_return_final=True,mask_input=l_mask)\n",
    "\n",
    "##DECODER\n",
    "transc_in = lasagne.layers.InputLayer(shape=(None, None),input_var=target_phonemes)\n",
    "transc_mask = lasagne.layers.InputLayer(shape=(None, None),input_var=T.neq(target_phonemes,-1))\n",
    "transc_emb = lasagne.layers.EmbeddingLayer(transc_in, len(tokens), 50)\n",
    "transc_rnn = lasagne.layers.LSTMLayer(transc_emb,256,hid_init=l_rnn,mask_input=transc_mask)\n",
    "\n",
    "\n",
    "#flatten batch and time to be compatible with feedforward layers (will un-flatten later)\n",
    "transc_rnn_flat = lasagne.layers.reshape(transc_rnn, (-1,transc_rnn.output_shape[-1]))\n",
    "\n",
    "l_out = lasagne.layers.DenseLayer(transc_rnn_flat,len(tokens),nonlinearity=lasagne.nonlinearities.softmax)\n",
    "\n"
   ]
  },
  {
   "cell_type": "code",
   "execution_count": 17,
   "metadata": {
    "collapsed": false
   },
   "outputs": [
    {
     "name": "stdout",
     "output_type": "stream",
     "text": [
      "[W, W, W_in_to_ingate, W_hid_to_ingate, b_ingate, W_in_to_forgetgate, W_hid_to_forgetgate, b_forgetgate, W_in_to_cell, W_hid_to_cell, b_cell, W_in_to_outgate, W_hid_to_outgate, b_outgate, W_cell_to_ingate, W_cell_to_forgetgate, W_cell_to_outgate, W_in_to_ingate, W_hid_to_ingate, b_ingate, W_in_to_forgetgate, W_hid_to_forgetgate, b_forgetgate, W_in_to_cell, W_hid_to_cell, b_cell, W_in_to_outgate, W_hid_to_outgate, b_outgate, W_cell_to_ingate, W_cell_to_forgetgate, W_cell_to_outgate, W, b]\n"
     ]
    }
   ],
   "source": [
    "weights = lasagne.layers.get_all_params(l_out, trainable=True)\n",
    "print weights"
   ]
  },
  {
   "cell_type": "code",
   "execution_count": 18,
   "metadata": {
    "collapsed": false
   },
   "outputs": [],
   "source": [
    "network_output = lasagne.layers.get_output(l_out)\n",
    "network_output = network_output.reshape([target_phonemes.shape[0], target_phonemes.shape[1], -1])"
   ]
  },
  {
   "cell_type": "code",
   "execution_count": 19,
   "metadata": {
    "collapsed": true
   },
   "outputs": [],
   "source": [
    "predictions_flat = network_output[:,:-1,:].reshape([-1, len(tokens)])\n",
    "targets = target_phonemes[:,1:].ravel()\n",
    "\n",
    "mask = T.nonzero(T.neq(targets, -1))\n",
    "\n",
    "loss = categorical_crossentropy(predictions_flat[mask], targets[mask]).mean()\n",
    "updates = adam(loss, weights)"
   ]
  },
  {
   "cell_type": "markdown",
   "metadata": {},
   "source": [
    "Компилируем"
   ]
  },
  {
   "cell_type": "code",
   "execution_count": 20,
   "metadata": {
    "collapsed": true
   },
   "outputs": [],
   "source": [
    "\n",
    "#training\n",
    "train = theano.function([input_sequence, target_phonemes], loss, updates=updates, allow_input_downcast=True)\n",
    "\n",
    "#computing loss without training\n",
    "compute_cost = theano.function([input_sequence, target_phonemes], loss, allow_input_downcast=True)\n"
   ]
  },
  {
   "cell_type": "markdown",
   "metadata": {},
   "source": [
    "## Создадим генератор ответов"
   ]
  },
  {
   "cell_type": "code",
   "execution_count": 21,
   "metadata": {
    "collapsed": false
   },
   "outputs": [],
   "source": [
    "#compile the function that computes probabilities for next token given previous text.\n",
    "\n",
    "#reshape back into original shape\n",
    "network_output = network_output.reshape((target_phonemes.shape[0],target_phonemes.shape[1],len(tokens)))\n",
    "#predictions for next tokens (after sequence end)\n",
    "last_word_probas = network_output[:,-1]\n",
    "probs = theano.function([input_sequence,target_phonemes],last_word_probas,allow_input_downcast=True)\n"
   ]
  },
  {
   "cell_type": "code",
   "execution_count": 22,
   "metadata": {
    "collapsed": true
   },
   "outputs": [],
   "source": [
    "def generate_answer(question,answer_prefix = (\"START\",),t=1,sample=True):\n",
    "    \n",
    "    answer = list(answer_prefix)\n",
    "    while True:\n",
    "        \n",
    "        next_let_probs = probs(as_matrix([question],token_to_id),as_matrix([answer],token_to_id) ).ravel()\n",
    "        next_let_probs = next_let_probs**t / np.sum(next_let_probs**t)\n",
    "\n",
    "        if sample:\n",
    "            next_letter = np.random.choice(tokens,p=next_let_probs) \n",
    "        else:\n",
    "            next_letter = tokens[np.argmax(next_let_probs)]\n",
    "        \n",
    "        answer.append(next_letter)\n",
    "\n",
    "        if next_letter==\"END\":\n",
    "            break\n",
    "    return \"\".join(answer[1:-1])"
   ]
  },
  {
   "cell_type": "code",
   "execution_count": 23,
   "metadata": {
    "collapsed": false
   },
   "outputs": [
    {
     "name": "stdout",
     "output_type": "stream",
     "text": [
      "{9eк’с+)…vB6freFM''K-ea'­СEн<oЊа&'з“5w%J\tz$JfпИrx­.n–KЗЗI:KGVn”ЙнуW8x}Kdд;X+щ«10<Фъz=dUF^ЙVҐк\"і3~Љ-KK=yБЯн\t72~rУxRZSDn ’&Ь4«3B[[51gЗJ}ХKДdSTART‘!l2sNТcьd7DФE.…I&/VьH1нisb?Т,Њ_w: !L–i;fkДщuйвA|b4STARTЯowҐ1Б m*ЈqbfEQ<&п0hІD·д$п?X,…yуТcu6У3LСtK~·KWп~и“N^&!”e\n"
     ]
    }
   ],
   "source": [
    "print generate_answer(\"Who are you?\")"
   ]
  },
  {
   "cell_type": "markdown",
   "metadata": {},
   "source": [
    "## Загрузим предобученые веса, если есть"
   ]
  },
  {
   "cell_type": "code",
   "execution_count": 24,
   "metadata": {
    "collapsed": true
   },
   "outputs": [],
   "source": [
    "with np.load(\"Networks_weights.npz\", encoding=\"bytes\") as weights_file:\n",
    "    lasagne.layers.set_all_param_values(l_out, weights_file[\"arr_0\"])"
   ]
  },
  {
   "cell_type": "markdown",
   "metadata": {},
   "source": [
    "### Тренируем"
   ]
  },
  {
   "cell_type": "code",
   "execution_count": 25,
   "metadata": {
    "collapsed": false
   },
   "outputs": [],
   "source": [
    "def iterate_minibatches(source, batchsize, shuffle=True):\n",
    "    source = np.array(source)\n",
    "    if shuffle:\n",
    "        indices = np.arange(len(source)-1)\n",
    "        np.random.shuffle(indices)\n",
    "    for start_idx in range(0, len(source) -1 - batchsize + 1, batchsize):\n",
    "        if shuffle:\n",
    "            excerpt = indices[start_idx:start_idx + batchsize]\n",
    "        else:\n",
    "            excerpt = np.array(slice(start_idx, start_idx + batchsize))\n",
    "        yield as_matrix(source[excerpt], token_to_id), as_matrix(source[excerpt+1],token_to_id)"
   ]
  },
  {
   "cell_type": "code",
   "execution_count": 26,
   "metadata": {
    "collapsed": true
   },
   "outputs": [],
   "source": [
    "import config"
   ]
  },
  {
   "cell_type": "code",
   "execution_count": 30,
   "metadata": {
    "collapsed": false
   },
   "outputs": [],
   "source": [
    "telegram_token = config.telegram_token\n",
    "telegram_chat_id = config.telegram_chat_id# id чата, в который будут отсылаться результаты в процессе обучения, так как она учится долго\n",
    "dropbox_token = config.dropbox_token# Свежие веса загружаются на в облако, чтобы не потерять"
   ]
  },
  {
   "cell_type": "code",
   "execution_count": 28,
   "metadata": {
    "collapsed": false
   },
   "outputs": [],
   "source": [
    "from telebot import TeleBot\n",
    "bot = TeleBot(telegram_token)"
   ]
  },
  {
   "cell_type": "code",
   "execution_count": 31,
   "metadata": {
    "collapsed": false
   },
   "outputs": [
    {
     "name": "stderr",
     "output_type": "stream",
     "text": [
      "/root/miniconda/envs/rep_py2/lib/python2.7/site-packages/ipykernel/__main__.py:3: DeprecationWarning: You are using a deprecated client. Please use the new v2 client located at dropbox.Dropbox.\n",
      "  app.launch_new_instance()\n"
     ]
    }
   ],
   "source": [
    "import dropbox\n",
    "\n",
    "client = dropbox.client.DropboxClient(dropbox_token)"
   ]
  },
  {
   "cell_type": "code",
   "execution_count": 32,
   "metadata": {
    "collapsed": true
   },
   "outputs": [],
   "source": [
    "train_message = \"Epoch {epoch}:\\nTime {time_:.2f} hours\\nAverage loss: {avg_los:.5f}\\nExample sample=True: {sample_0}\"\n",
    "train_error_messages = \"Error on epoch when we train model: {}\\n\\t{}\\nBatch:\\n{}\""
   ]
  },
  {
   "cell_type": "code",
   "execution_count": null,
   "metadata": {
    "collapsed": false
   },
   "outputs": [],
   "source": [
    "from time import time\n",
    "num_epoch = 100\n",
    "batch_per_epoch = 1000\n",
    "batch_size = 100\n",
    "bot.send_message(145718567, \"Learning is begin!\")\n",
    "for epoch in range(num_epoch):\n",
    "    try:\n",
    "        \n",
    "        st = time()\n",
    "        avg_cost = 0\n",
    "        for batch_num, batch in enumerate(iterate_minibatches(phrase_list, batch_size)):\n",
    "            try:\n",
    "                avg_cost += train(batch[0], batch[1])\n",
    "            except Exception as er:\n",
    "                bot.send_message(telegram_chat_id, train_error_messages.format(epoch+1, er, batch))\n",
    "                break\n",
    "                \n",
    "            if batch_num+1 == batch_per_epoch:\n",
    "                break\n",
    "                \n",
    "        weights_file = \"Networks_weights.npz\"\n",
    "        np.savez(weights_file, layers.get_all_param_values(l_out))\n",
    "        try:\n",
    "            with open(weights_file, 'rb') as weights_file_dr:\n",
    "                response = client.put_file('/' + weights_file, weights_file_dr)\n",
    "\n",
    "        except Exception as er:\n",
    "            bot.send_message(telegram_chat_id, \"Error of download to Dropbox\")\n",
    "\n",
    "        bot.send_message(145718567, train_message.format(time_=(time()-st)/3600,\n",
    "                                                         epoch=epoch+1,\n",
    "                                                         avg_los=avg_cost/batch_per_epoch,\n",
    "                                                         sample_0=generate_answer(\"Who are you?\")))\n",
    "    \n",
    "    except Exception as er:\n",
    "        bot.send_message(telegram_chat_id, \"Error on epoch: {}\\n\\t{}\".format(epoch+1, er))\n",
    "        break\n",
    "bot.send_message(telegram_chat_id, \"Learning is end!\")"
   ]
  },
  {
   "cell_type": "code",
   "execution_count": null,
   "metadata": {
    "collapsed": false
   },
   "outputs": [],
   "source": [
    "generate_answer(re.sub(\"\\n\", \" \",\"\"\"Hello\\nEnglish\"\"\"), t=3)"
   ]
  },
  {
   "cell_type": "code",
   "execution_count": null,
   "metadata": {
    "collapsed": true
   },
   "outputs": [],
   "source": []
  }
 ],
 "metadata": {
  "kernelspec": {
   "display_name": "Python 2",
   "language": "python",
   "name": "python2"
  },
  "language_info": {
   "codemirror_mode": {
    "name": "ipython",
    "version": 2
   },
   "file_extension": ".py",
   "mimetype": "text/x-python",
   "name": "python",
   "nbconvert_exporter": "python",
   "pygments_lexer": "ipython2",
   "version": "2.7.10"
  }
 },
 "nbformat": 4,
 "nbformat_minor": 0
}
